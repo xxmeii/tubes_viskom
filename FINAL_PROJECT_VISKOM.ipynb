{
  "cells": [
    {
      "cell_type": "code",
      "execution_count": null,
      "metadata": {
        "colab": {
          "background_save": true
        },
        "id": "aCqlY6YH8JC3"
      },
      "outputs": [],
      "source": [
        "import cv2\n",
        "import numpy as np\n",
        "import matplotlib.pyplot as plt\n",
        "import pandas as pd\n",
        "import math\n",
        "from google.colab.patches import cv2_imshow\n"
      ]
    },
    {
      "cell_type": "code",
      "execution_count": null,
      "metadata": {
        "colab": {
          "base_uri": "https://localhost:8080/",
          "height": 38
        },
        "id": "X_wvghLj8L6r",
        "outputId": "1549c6e6-438a-43d4-b5c0-28ee086ec3d5"
      },
      "outputs": [
        {
          "data": {
            "text/html": [
              "\n",
              "     <input type=\"file\" id=\"files-89756d23-81af-4f49-b05b-8cefb7e8ac50\" name=\"files[]\" multiple disabled\n",
              "        style=\"border:none\" />\n",
              "     <output id=\"result-89756d23-81af-4f49-b05b-8cefb7e8ac50\">\n",
              "      Upload widget is only available when the cell has been executed in the\n",
              "      current browser session. Please rerun this cell to enable.\n",
              "      </output>\n",
              "      <script>// Copyright 2017 Google LLC\n",
              "//\n",
              "// Licensed under the Apache License, Version 2.0 (the \"License\");\n",
              "// you may not use this file except in compliance with the License.\n",
              "// You may obtain a copy of the License at\n",
              "//\n",
              "//      http://www.apache.org/licenses/LICENSE-2.0\n",
              "//\n",
              "// Unless required by applicable law or agreed to in writing, software\n",
              "// distributed under the License is distributed on an \"AS IS\" BASIS,\n",
              "// WITHOUT WARRANTIES OR CONDITIONS OF ANY KIND, either express or implied.\n",
              "// See the License for the specific language governing permissions and\n",
              "// limitations under the License.\n",
              "\n",
              "/**\n",
              " * @fileoverview Helpers for google.colab Python module.\n",
              " */\n",
              "(function(scope) {\n",
              "function span(text, styleAttributes = {}) {\n",
              "  const element = document.createElement('span');\n",
              "  element.textContent = text;\n",
              "  for (const key of Object.keys(styleAttributes)) {\n",
              "    element.style[key] = styleAttributes[key];\n",
              "  }\n",
              "  return element;\n",
              "}\n",
              "\n",
              "// Max number of bytes which will be uploaded at a time.\n",
              "const MAX_PAYLOAD_SIZE = 100 * 1024;\n",
              "\n",
              "function _uploadFiles(inputId, outputId) {\n",
              "  const steps = uploadFilesStep(inputId, outputId);\n",
              "  const outputElement = document.getElementById(outputId);\n",
              "  // Cache steps on the outputElement to make it available for the next call\n",
              "  // to uploadFilesContinue from Python.\n",
              "  outputElement.steps = steps;\n",
              "\n",
              "  return _uploadFilesContinue(outputId);\n",
              "}\n",
              "\n",
              "// This is roughly an async generator (not supported in the browser yet),\n",
              "// where there are multiple asynchronous steps and the Python side is going\n",
              "// to poll for completion of each step.\n",
              "// This uses a Promise to block the python side on completion of each step,\n",
              "// then passes the result of the previous step as the input to the next step.\n",
              "function _uploadFilesContinue(outputId) {\n",
              "  const outputElement = document.getElementById(outputId);\n",
              "  const steps = outputElement.steps;\n",
              "\n",
              "  const next = steps.next(outputElement.lastPromiseValue);\n",
              "  return Promise.resolve(next.value.promise).then((value) => {\n",
              "    // Cache the last promise value to make it available to the next\n",
              "    // step of the generator.\n",
              "    outputElement.lastPromiseValue = value;\n",
              "    return next.value.response;\n",
              "  });\n",
              "}\n",
              "\n",
              "/**\n",
              " * Generator function which is called between each async step of the upload\n",
              " * process.\n",
              " * @param {string} inputId Element ID of the input file picker element.\n",
              " * @param {string} outputId Element ID of the output display.\n",
              " * @return {!Iterable<!Object>} Iterable of next steps.\n",
              " */\n",
              "function* uploadFilesStep(inputId, outputId) {\n",
              "  const inputElement = document.getElementById(inputId);\n",
              "  inputElement.disabled = false;\n",
              "\n",
              "  const outputElement = document.getElementById(outputId);\n",
              "  outputElement.innerHTML = '';\n",
              "\n",
              "  const pickedPromise = new Promise((resolve) => {\n",
              "    inputElement.addEventListener('change', (e) => {\n",
              "      resolve(e.target.files);\n",
              "    });\n",
              "  });\n",
              "\n",
              "  const cancel = document.createElement('button');\n",
              "  inputElement.parentElement.appendChild(cancel);\n",
              "  cancel.textContent = 'Cancel upload';\n",
              "  const cancelPromise = new Promise((resolve) => {\n",
              "    cancel.onclick = () => {\n",
              "      resolve(null);\n",
              "    };\n",
              "  });\n",
              "\n",
              "  // Wait for the user to pick the files.\n",
              "  const files = yield {\n",
              "    promise: Promise.race([pickedPromise, cancelPromise]),\n",
              "    response: {\n",
              "      action: 'starting',\n",
              "    }\n",
              "  };\n",
              "\n",
              "  cancel.remove();\n",
              "\n",
              "  // Disable the input element since further picks are not allowed.\n",
              "  inputElement.disabled = true;\n",
              "\n",
              "  if (!files) {\n",
              "    return {\n",
              "      response: {\n",
              "        action: 'complete',\n",
              "      }\n",
              "    };\n",
              "  }\n",
              "\n",
              "  for (const file of files) {\n",
              "    const li = document.createElement('li');\n",
              "    li.append(span(file.name, {fontWeight: 'bold'}));\n",
              "    li.append(span(\n",
              "        `(${file.type || 'n/a'}) - ${file.size} bytes, ` +\n",
              "        `last modified: ${\n",
              "            file.lastModifiedDate ? file.lastModifiedDate.toLocaleDateString() :\n",
              "                                    'n/a'} - `));\n",
              "    const percent = span('0% done');\n",
              "    li.appendChild(percent);\n",
              "\n",
              "    outputElement.appendChild(li);\n",
              "\n",
              "    const fileDataPromise = new Promise((resolve) => {\n",
              "      const reader = new FileReader();\n",
              "      reader.onload = (e) => {\n",
              "        resolve(e.target.result);\n",
              "      };\n",
              "      reader.readAsArrayBuffer(file);\n",
              "    });\n",
              "    // Wait for the data to be ready.\n",
              "    let fileData = yield {\n",
              "      promise: fileDataPromise,\n",
              "      response: {\n",
              "        action: 'continue',\n",
              "      }\n",
              "    };\n",
              "\n",
              "    // Use a chunked sending to avoid message size limits. See b/62115660.\n",
              "    let position = 0;\n",
              "    do {\n",
              "      const length = Math.min(fileData.byteLength - position, MAX_PAYLOAD_SIZE);\n",
              "      const chunk = new Uint8Array(fileData, position, length);\n",
              "      position += length;\n",
              "\n",
              "      const base64 = btoa(String.fromCharCode.apply(null, chunk));\n",
              "      yield {\n",
              "        response: {\n",
              "          action: 'append',\n",
              "          file: file.name,\n",
              "          data: base64,\n",
              "        },\n",
              "      };\n",
              "\n",
              "      let percentDone = fileData.byteLength === 0 ?\n",
              "          100 :\n",
              "          Math.round((position / fileData.byteLength) * 100);\n",
              "      percent.textContent = `${percentDone}% done`;\n",
              "\n",
              "    } while (position < fileData.byteLength);\n",
              "  }\n",
              "\n",
              "  // All done.\n",
              "  yield {\n",
              "    response: {\n",
              "      action: 'complete',\n",
              "    }\n",
              "  };\n",
              "}\n",
              "\n",
              "scope.google = scope.google || {};\n",
              "scope.google.colab = scope.google.colab || {};\n",
              "scope.google.colab._files = {\n",
              "  _uploadFiles,\n",
              "  _uploadFilesContinue,\n",
              "};\n",
              "})(self);\n",
              "</script> "
            ],
            "text/plain": [
              "<IPython.core.display.HTML object>"
            ]
          },
          "metadata": {},
          "output_type": "display_data"
        }
      ],
      "source": [
        "from google.colab import files\n",
        "uploaded = files.upload()\n",
        "\n",
        "# Membaca gambar\n",
        "filename = next(iter(uploaded))\n",
        "img = cv2.imread(filename)\n",
        "\n",
        "# Konversi ke grayscale\n",
        "gray = cv2.cvtColor(img, cv2.COLOR_BGR2GRAY)\n",
        "\n",
        "# Tampilkan citra asli\n",
        "plt.figure(figsize=(5, 5))\n",
        "plt.imshow(gray, cmap='gray')\n",
        "plt.title(\"Citra Asli (Gelap)\")\n",
        "plt.axis('off')\n",
        "plt.show()\n"
      ]
    },
    {
      "cell_type": "markdown",
      "metadata": {
        "id": "4YoyOZOR8P2h"
      },
      "source": [
        "***CONTRAST STRETCHING***"
      ]
    },
    {
      "cell_type": "code",
      "execution_count": null,
      "metadata": {
        "colab": {
          "background_save": true
        },
        "id": "Fqxs_naw8Pi2"
      },
      "outputs": [],
      "source": [
        "def contrast_stretching(image):\n",
        "    r_min = np.min(image)\n",
        "    r_max = np.max(image)\n",
        "    stretched = (image - r_min) * (255 / (r_max - r_min))\n",
        "    stretched = np.clip(stretched, 0, 255).astype(np.uint8)\n",
        "    return stretched\n",
        "\n",
        "stretched_img = contrast_stretching(gray)\n",
        "\n",
        "plt.figure(figsize=(5, 5))\n",
        "plt.imshow(stretched_img, cmap='gray')\n",
        "plt.title(\"Hasil Contrast Stretching\")\n",
        "plt.axis('off')\n",
        "plt.show()\n"
      ]
    },
    {
      "cell_type": "markdown",
      "metadata": {
        "id": "khEOFmFO8YxU"
      },
      "source": [
        "***HISTROGRAM EQUALIZATION***"
      ]
    },
    {
      "cell_type": "code",
      "execution_count": null,
      "metadata": {
        "colab": {
          "background_save": true
        },
        "id": "YM8VpPF48wCq"
      },
      "outputs": [],
      "source": [
        "equalized_img = cv2.equalizeHist(gray)\n",
        "\n",
        "plt.figure(figsize=(5, 5))\n",
        "plt.imshow(equalized_img, cmap='gray')\n",
        "plt.title(\"Hasil Histogram Equalization\")\n",
        "plt.axis('off')\n",
        "plt.show()\n",
        "\n"
      ]
    },
    {
      "cell_type": "markdown",
      "metadata": {
        "id": "Jqlr03_F80oS"
      },
      "source": [
        "***FUNGSI PSNR & STANDAR DEVIASI***"
      ]
    },
    {
      "cell_type": "code",
      "execution_count": null,
      "metadata": {
        "colab": {
          "background_save": true
        },
        "id": "Q0JTKSij83bY"
      },
      "outputs": [],
      "source": [
        "def calculate_psnr(original, processed):\n",
        "    mse = np.mean((original - processed) ** 2)\n",
        "    if mse == 0:\n",
        "        return float('inf')  # tidak ada perbedaan\n",
        "    max_pixel = 255.0\n",
        "    psnr = 20 * math.log10(max_pixel / math.sqrt(mse))\n",
        "    return psnr\n",
        "\n",
        "# Hitung PSNR\n",
        "psnr_stretch = calculate_psnr(gray, stretched_img)\n",
        "psnr_equal = calculate_psnr(gray, equalized_img)\n",
        "\n",
        "# Hitung standar deviasi\n",
        "std_stretch = np.std(stretched_img)\n",
        "std_equal = np.std(equalized_img)\n",
        "\n",
        "print(f\"PSNR Contrast Stretching: {psnr_stretch:.2f} dB\")\n",
        "print(f\"PSNR Histogram Equalization: {psnr_equal:.2f} dB\\n\")\n",
        "\n",
        "print(f\"Standar Deviasi Contrast Stretching: {std_stretch:.2f}\")\n",
        "print(f\"Standar Deviasi Histogram Equalization: {std_equal:.2f}\")\n"
      ]
    },
    {
      "cell_type": "markdown",
      "metadata": {
        "id": "-CHgE6TQ8-bA"
      },
      "source": [
        "***PERBANDINGAN HISTOGRAM***"
      ]
    },
    {
      "cell_type": "code",
      "execution_count": null,
      "metadata": {
        "colab": {
          "background_save": true
        },
        "id": "osBEXCYK_EYi"
      },
      "outputs": [],
      "source": [
        "plt.figure(figsize=(12, 4))\n",
        "\n",
        "plt.subplot(1, 3, 1)\n",
        "plt.hist(gray.ravel(), bins=256, color='gray')\n",
        "plt.title('Histogram Citra Asli')\n",
        "\n",
        "plt.subplot(1, 3, 2)\n",
        "plt.hist(stretched_img.ravel(), bins=256, color='blue')\n",
        "plt.title('Histogram Contrast Stretching')\n",
        "\n",
        "plt.subplot(1, 3, 3)\n",
        "plt.hist(equalized_img.ravel(), bins=256, color='green')\n",
        "plt.title('Histogram Histogram Equalization')\n",
        "\n",
        "plt.tight_layout()\n",
        "plt.show()\n"
      ]
    },
    {
      "cell_type": "code",
      "execution_count": null,
      "metadata": {
        "colab": {
          "background_save": true
        },
        "id": "vzhJCFwzBXTk"
      },
      "outputs": [],
      "source": [
        "\n",
        "results = {\n",
        "    \"Metode\": [\"Original\", \"Contrast Stretching\", \"Histogram Equalization\"],\n",
        "    \"Standar Deviasi\": [np.std(gray), std_stretch, std_equal],\n",
        "    \"PSNR (dB)\": [\"-\", f\"{psnr_stretch:.2f}\", f\"{psnr_equal:.2f}\"]\n",
        "}\n",
        "\n",
        "df = pd.DataFrame(results)\n",
        "print(\"\\nTabel Perbandingan Metode:\")\n",
        "print(df.to_markdown(index=False))"
      ]
    },
    {
      "cell_type": "code",
      "execution_count": null,
      "metadata": {
        "colab": {
          "background_save": true
        },
        "id": "xNktaMeIBhIw"
      },
      "outputs": [],
      "source": [
        "def detect_noise(image):\n",
        "    # Deteksi piksel ekstrem (0 atau 255) sebagai indikator noise\n",
        "    noise_pixels = np.sum((image == 0) | (image == 255))\n",
        "    noise_percentage = (noise_pixels / image.size) * 100\n",
        "    return noise_percentage\n",
        "\n",
        "noise_equal = detect_noise(equalized_img)\n",
        "print(f\"\\nPersentase Noise (Histogram Equalization): {noise_equal:.2f}%\")"
      ]
    },
    {
      "cell_type": "code",
      "execution_count": null,
      "metadata": {
        "colab": {
          "background_save": true
        },
        "id": "lzRLQTnFBlQ4"
      },
      "outputs": [],
      "source": [
        "print(\"\\nKESIMPULAN:\")\n",
        "if std_equal > std_stretch:\n",
        "    print(\"- Histogram Equalization lebih unggul dalam meningkatkan kontras (standar deviasi lebih tinggi).\")\n",
        "else:\n",
        "    print(\"- Contrast Stretching lebih unggul dalam meningkatkan kontras.\")\n",
        "\n",
        "if psnr_stretch > psnr_equal:\n",
        "    print(\"- Contrast Stretching lebih baik dalam menjaga kualitas citra (PSNR lebih tinggi).\")\n",
        "else:\n",
        "    print(\"- Histogram Equalization lebih baik dalam menjaga kualitas citra.\")"
      ]
    }
  ],
  "metadata": {
    "colab": {
      "provenance": []
    },
    "kernelspec": {
      "display_name": "Python 3",
      "name": "python3"
    },
    "language_info": {
      "name": "python"
    }
  },
  "nbformat": 4,
  "nbformat_minor": 0
}